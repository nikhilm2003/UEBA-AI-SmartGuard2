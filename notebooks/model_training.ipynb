# notebooks/model_training.ipynb

import pandas as pd
from src.feature_engineering import preprocess_data
from sklearn.ensemble import IsolationForest

# Load dataset
X, df = preprocess_data("../data/sample_logins.csv")

# Train model
clf = IsolationForest(n_estimators=100, contamination=0.1, random_state=42)
clf.fit(X)

print("Training complete. Sample predictions:")
print(clf.predict(X[:5]))
