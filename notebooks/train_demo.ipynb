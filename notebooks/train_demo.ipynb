# Jupyter Notebook for interactive training

from src.train_model import train
train()

# Load inference
from src.inference import predict

session = {
    "login_time": "2025-09-29 03:00:00",
    "location": "Russia",
    "device": "Android",
    "transaction_amount": 500000
}
print(predict(session))
